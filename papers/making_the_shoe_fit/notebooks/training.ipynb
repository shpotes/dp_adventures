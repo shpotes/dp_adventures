{
 "cells": [
  {
   "cell_type": "code",
   "execution_count": null,
   "id": "122e0bcc-eea3-4fee-bab2-1840197f8ba3",
   "metadata": {},
   "outputs": [],
   "source": [
    "%cd .."
   ]
  },
  {
   "cell_type": "code",
   "execution_count": null,
   "id": "a4fb13f8-d6e6-4a0d-9396-4d96d066eeb3",
   "metadata": {},
   "outputs": [],
   "source": [
    "from functools import partial\n",
    "\n",
    "import jax\n",
    "import jax.numpy as jnp\n",
    "from flax import linen as nn\n",
    "import optax\n",
    "import ml_collections\n",
    "from tensorflow_datasets import Split\n",
    "import wandb\n",
    "\n",
    "from src.dataset import load_mnist\n",
    "from src.models import MnistCNN\n",
    "from src import training_utils as utils"
   ]
  },
  {
   "cell_type": "code",
   "execution_count": null,
   "id": "f5fc66c2-5dce-4060-aa3f-e1a25778e0e6",
   "metadata": {},
   "outputs": [],
   "source": [
    "# paper params\n",
    "cfg = ml_collections.ConfigDict()\n",
    "cfg.learning_rate = 1.07e-1\n",
    "cfg.batch_size = 256\n",
    "cfg.epochs = 40\n",
    "cfg.model_params = {\n",
    "    \"k_filters\": 32,\n",
    "    \"activation\": nn.relu\n",
    "}"
   ]
  },
  {
   "cell_type": "code",
   "execution_count": null,
   "id": "c40053e8-c892-4eb1-a64c-820a756f5178",
   "metadata": {
    "tags": []
   },
   "outputs": [],
   "source": [
    "train_ds = load_mnist(cfg.batch_size)\n",
    "train_ds = list(train_ds.as_numpy_iterator())\n",
    "test_ds = load_mnist(cfg.batch_size, split=Split.TEST, shuffle=False)\n",
    "test_ds = next(\n",
    "    test_ds\n",
    "    .unbatch()\n",
    "    .batch(60_000)\n",
    "    .as_numpy_iterator()\n",
    ")"
   ]
  },
  {
   "cell_type": "code",
   "execution_count": null,
   "id": "3cf6074d-1efc-4740-94f0-8121ae5fd66c",
   "metadata": {},
   "outputs": [],
   "source": [
    "rng = jax.random.PRNGKey(42)\n",
    "rng, init_rng = jax.random.split(rng)"
   ]
  },
  {
   "cell_type": "code",
   "execution_count": null,
   "id": "23782a7f-8858-44b3-826f-8efb138f24ca",
   "metadata": {},
   "outputs": [],
   "source": [
    "model = MnistCNN(**cfg.model_params)\n",
    "tx = optax.sgd(\n",
    "    learning_rate=cfg.learning_rate\n",
    ")\n",
    "\n",
    "state = utils.create_train_state(model, tx, rng)"
   ]
  },
  {
   "cell_type": "code",
   "execution_count": null,
   "id": "2d6b74f0-40f8-43de-b352-a07088f6362b",
   "metadata": {
    "tags": []
   },
   "outputs": [],
   "source": [
    "wandb.init(project=\"making_the_shoe_fit\", entity=\"shpotes\", name=\"test\")\n",
    "wandb.config = dict(cfg)"
   ]
  },
  {
   "cell_type": "code",
   "execution_count": null,
   "id": "2c2c9313-d9f5-4dba-af66-a9bd63d88f67",
   "metadata": {
    "tags": []
   },
   "outputs": [],
   "source": [
    "for epoch in range(1, cfg.epochs + 1):\n",
    "    for batch in train_ds:\n",
    "        state, training_metrics = utils._train_step(model, state, batch)\n",
    "        \n",
    "        wandb.log(training_metrics)\n",
    "        break\n",
    "        \n",
    "    test_metrics = utils._test_step(model, state.params, test_ds)\n",
    "    wandb.log(test_metrics)\n",
    "\n",
    "    break"
   ]
  },
  {
   "cell_type": "code",
   "execution_count": null,
   "id": "87968a36-1d3e-464e-94e7-a12ae3fe0d6d",
   "metadata": {},
   "outputs": [],
   "source": []
  },
  {
   "cell_type": "code",
   "execution_count": null,
   "id": "87cb5631-d21c-4f77-9cdc-763bbb1b42da",
   "metadata": {},
   "outputs": [],
   "source": []
  }
 ],
 "metadata": {
  "kernelspec": {
   "display_name": "Python 3 (ipykernel)",
   "language": "python",
   "name": "python3"
  },
  "language_info": {
   "codemirror_mode": {
    "name": "ipython",
    "version": 3
   },
   "file_extension": ".py",
   "mimetype": "text/x-python",
   "name": "python",
   "nbconvert_exporter": "python",
   "pygments_lexer": "ipython3",
   "version": "3.9.5"
  }
 },
 "nbformat": 4,
 "nbformat_minor": 5
}
